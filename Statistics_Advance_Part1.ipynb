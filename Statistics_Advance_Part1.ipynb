{
  "nbformat": 4,
  "nbformat_minor": 0,
  "metadata": {
    "colab": {
      "provenance": []
    },
    "kernelspec": {
      "name": "python3",
      "display_name": "Python 3"
    },
    "language_info": {
      "name": "python"
    }
  },
  "cells": [
    {
      "cell_type": "markdown",
      "source": [
        "#Statistics Advance Part 1 Theory"
      ],
      "metadata": {
        "id": "SaMefRdU1eUk"
      }
    },
    {
      "cell_type": "markdown",
      "source": [
        "1. What is a random variable in probability theory?\n",
        "  -  A Set of possible  value from a random experiment.\n",
        "  - A random variable value is unknow.\n",
        "  - A function that assign values to each of experiment outcomes.\n",
        "\n",
        "2. What are the types of random variables?\n",
        "  - Random variables are typically classified into two main types:\n",
        "      * Discrete Random Variables\n",
        "      * Continuous Random Variables\n",
        "\n",
        "3. What is the difference between discrete and continuous distributions?\n",
        "  - Discreate Distribution\n",
        "      * Its values are isolated (e.g., 0, 1, 2, 3,...).\n",
        "      * Its uses a Probability Mass Function (PMF).\n",
        "      * The total probability over all possible values is 1.\n",
        "\n",
        "  - Continuous Distribution\n",
        "      * The values are uncountable (infinitely many in any interval).\n",
        "      * Its uses a Probability Density Function (PDF).\n",
        "      * The probability at any exact point is zero.\n",
        "\n",
        "4. What are probability distribution functions (PDF)?\n",
        "  - A Probability Density Function (PDF) is a function𝑓(𝑥) such that the probability that a continuous random variable 𝑋 falls within an interval\n",
        "  [𝑎,𝑏] is:𝑃(𝑎≤𝑋≤𝑏)=∫𝑎𝑏𝑓(𝑥)𝑑𝑥"
      ],
      "metadata": {
        "id": "nLtUbQpI1147"
      }
    },
    {
      "cell_type": "markdown",
      "source": [
        "5. How do cumulative distribution functions (CDF) differ from probability distribution functions (PDF)?\n",
        "  - Probability Distribution Function (PDF)\n",
        "      * Used for: Continuous random variables\n",
        "\n",
        "      * Definition: The PDF, usually denoted 𝑓(𝑥), describes the likelihood of a random variable taking on a particular value.\n",
        "\n",
        "      * Important Note: For continuous variables, the probability at an exact value is zero (i.e., 𝑃(𝑋=𝑥)=0)\n",
        "\n",
        "  - Cumulative Distribution Function (CDF)\n",
        "      * Used for: Both continuous and discrete random variables\n",
        "      * Definition: The CDF, denoted 𝐹(𝑥), gives the probability that a random variable is less than or equal to a certain value:𝐹(𝑥)=𝑃(𝑋≤𝑥)\n",
        "\n",
        "6. What is a discrete uniform distribution?\n",
        "  - A Discrete Uniform Distribution is a probability distribution where all possible outcomes are equally likely and finite in number."
      ],
      "metadata": {
        "id": "VNuJDZXSZxzW"
      }
    },
    {
      "cell_type": "code",
      "execution_count": null,
      "metadata": {
        "id": "LW_JRhlK1KN7"
      },
      "outputs": [],
      "source": [
        "# 7. What are the key properties of a Bernoulli distribution?\n",
        "'''\n",
        "| Property                   | Formula / Description      |\n",
        "| -------------------------- | -------------------------- |\n",
        "| Probability of Success | P(X = 1) = p                   |\n",
        "| Probability of Failure | P(X = 0) = 1 - p               |\n",
        "| Mean (Expected Value)  | E[X] = p                       |\n",
        "| Variance               | Var(X) = p(1 - p)              |\n",
        "| Mode                   | 0 if p < 0.5, 1 if p > 0.5     |\n",
        "'''"
      ]
    },
    {
      "cell_type": "markdown",
      "source": [
        "8. What is the binomial distribution, and how is it used in probability?\n",
        "  - The Bernoulli distribution is one of the simplest and most fundamental probability distributions. It models a binary outcome a single trial with only two possible results: success (1) or failure (0).\n",
        "  - Use Cases in Probability\n",
        "      * Number of defective items in a batch\n",
        "      * Number of heads in 'n' coin tosses\n",
        "      * Number of correct answers on a multiple-choice quiz\n",
        "      * Any process with repeated yes/no outcomes\n",
        "\n",
        "9. What is the Poisson distribution and where is it applied?\n",
        "  - The Poisson distribution models the probability of a given number of events occurring in a fixed interval of time or space, when the events happen independently and at a constant average rate.\n",
        "  - Applications of Poisson Distribution:-\n",
        "      * Call center arrivals:- \tNumber of calls per hour\n",
        "      * Traffic flow :- Cars passing a checkpoint per minute\n",
        "      * Biology :-\tMutations per DNA strand\n",
        "      * Finance :-\tNumber of trades per second\n",
        "\n",
        "10. What is a continuous uniform distribution?\n",
        "  - A continuous uniform distribution is a probability distribution in which all values within a given interval are equally.\n",
        "\n",
        "11. What are the characteristics of a normal distribution?\n",
        "  - Symmetry:\n",
        "      * The distribution is perfectly symmetrical about the mean.\n",
        "      * This means the left and right halves are mirror images.\n",
        "  - Bell-Shaped Curve:\n",
        "      * The graph of the distribution forms a bell-shaped curve.\n",
        "  - Mean = Median = Mode:\n",
        "      * All three measures of central tendency are equal and located at the center of the distribution.\n",
        "  - Defined by Two Parameters:\n",
        "      * Mean (μ): Determines the center of the distribution.\n",
        "      * Standard deviation (σ): Determines the spread or width of the distribution.\n",
        "\n",
        "12. What is the standard normal distribution, and why is it important?\n",
        "  - The standard normal distribution is a special case of the normal distribution with:\n",
        "      * Mean (μ) = 0\n",
        "      * Standard deviation (σ) = 1\n",
        "  - Why It's Important:\n",
        "      * Many statistical techniques use the standard normal distribution because it's mathematically convenient.\n",
        "      * Values from any normal distribution can be converted to the standard normal distribution using z-scores.\n",
        "      * A z-score tells you how many standard deviations a value is from the mean.\n",
        "\n",
        "      * For example, a z-score of 2 means the value is 2 standard deviations above the mean.\n",
        "\n",
        "13. What is the Central Limit Theorem (CLT), and why is it critical in statistics?\n",
        "  - The Central Limit Theorem (CLT) is a fundamental principle in statistics that explains how the distribution of sample means behaves, especially when drawing samples from any population.\n",
        "  - Enables Use of Normal Distribution:\n",
        "      * Even if the population is not normally distributed, the sample mean will be approximately normal for large n, making it easier to apply statistical methods.\n",
        "  - Foundation of Inference:\n",
        "      * It underpins confidence intervals, hypothesis testing, and many other inferential techniques.\n",
        "  - Simplifies Analysis:\n",
        "      * Complex or unknown distributions become manageable through approximation by the normal distribution.\n",
        "\n",
        "14. How does the Central Limit Theorem relate to the normal distribution?\n",
        "  - The Central Limit Theorem (CLT) is a fundamental concept in statistics that explains why the normal distribution appears so frequently in practice, even when the underlying data is not normally distributed.\n",
        "\n",
        "15. What is the application of Z statistics in hypothesis testing?\n",
        "  - Testing Population Means:\n",
        "      * When you know the population standard deviation (σ), and you want to test a hypothesis about the population mean (μ).\n",
        "      * Example: Testing if the average height of a population is 170 cm, given σ = 6 cm.\n",
        "\n",
        "  - Testing Proportions:\n",
        "      * Used to test claims about population proportions, especially in large samples.\n",
        "      * Example: Testing if 60% of voters prefer a candidate.\n",
        "\n",
        "  - Comparing Two Means (Known Variance):\n",
        "      * If comparing the means of two independent populations with known variances, Z-statistics can be used.\n",
        "\n",
        "16. How do you calculate a Z-score, and what does it represent?\n",
        "  - Z=\n",
        "σ\n",
        "X−μ\n",
        "​\n",
        "\n",
        "  - Where:\n",
        "      * X = the data point\n",
        "      * μ = the population mean\n",
        "      * σ = the population standard deviation\n",
        "  \n",
        "  - What a Z-score Represents:\n",
        "      * A Z-score of 0 means the value is exactly at the mean.\n",
        "      * A positive Z-score means the value is above the mean.\n",
        "      * A negative Z-score means the value is below the mean.\n",
        "      * A Z-score of +2 means the value is 2 standard deviations above the mean.\n",
        "      * A Z-score of -1.5 means the value is 1.5 standard deviations below the mean\n",
        "\n",
        "17. What are point estimates and interval estimates in statistics?\n",
        "  - Point Estimate :- A single value used to estimate a population parameter.\n",
        "      * Example: Using a sample mean (𝑥ˉ) to estimate the population mean (μ).\n",
        "\n",
        "  - Interval Estimate :- A range of values, derived from sample statistics, that is likely to contain the population parameter with a certain level of confidence (e.g., 95%).\n",
        "\n",
        "18.  What is the significance of confidence intervals in statistical analysis?\n",
        "  - Confidence intervals (CIs) are crucial in statistical analysis because they provide a range of plausible values for an unknown population parameter (such as a mean or proportion), based on sample data.\n",
        "\n",
        "20. How are Z-scores used to compare different distributions?\n",
        "  - Z-scores are a powerful tool for comparing values from different distributions, even when those distributions have different means and standard deviations.\n",
        "\n",
        "21. What are the assumptions for applying the Central Limit Theorem?\n",
        "  - The Central Limit Theorem (CLT) is a foundational concept in statistics that allows us to make inferences about population parameters using sample data. For the CLT to apply properly, certain assumptions need to be met, depending on the context.\n",
        "\n",
        "22. What is the concept of expected value in a probability distribution?\n",
        "  - The expected value in a probability distribution is a fundamental concept that represents the long-run average or mean of random outcomes over many trials.\n",
        "\n",
        "23. How does a probability distribution relate to the expected outcome of a random variable?\n",
        "  - A random variable assigns numerical values to outcomes of a random process (e.g., rolling a die).\n",
        "  - A probability distribution tells you how likely each value of the random variable is.\n",
        "  - The expected outcome (or expected value) is the average value you'd expect if you repeated the random process many times.\n",
        "\n",
        "\n"
      ],
      "metadata": {
        "id": "X_28sWVIdlEy"
      }
    }
  ]
}